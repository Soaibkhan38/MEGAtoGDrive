{
  "nbformat": 4,
  "nbformat_minor": 0,
  "metadata": {
    "colab": {
      "name": "Untitled5 (1).ipynb",
      "provenance": [],
      "collapsed_sections": []
    },
    "kernelspec": {
      "display_name": "Python 3",
      "name": "python3"
    }
  },
  "cells": [
    {
      "cell_type": "markdown",
      "metadata": {
        "id": "kp6davlLkOQR"
      },
      "source": [
        "1. Download the MEGA utility (Recommended: Replace the link with recent build if possible)"
      ]
    },
    {
      "cell_type": "code",
      "metadata": {
        "id": "FjJPHmsokDeV"
      },
      "source": [
        "!wget https://megatools.megous.com/builds/experimental/megatools-1.11.0-git-20200503-linux-x86_64.tar.gz"
      ],
      "execution_count": null,
      "outputs": []
    },
    {
      "cell_type": "markdown",
      "metadata": {
        "id": "4rupKuskkf8n"
      },
      "source": [
        "2. Untar it"
      ]
    },
    {
      "cell_type": "code",
      "metadata": {
        "id": "SJUiec6LkieV"
      },
      "source": [
        "!tar -xvzf megatools-1.11.0-git-20200503-linux-x86_64.tar.gz"
      ],
      "execution_count": null,
      "outputs": []
    },
    {
      "cell_type": "markdown",
      "metadata": {
        "id": "qdtda1qVkqBL"
      },
      "source": [
        "3. Mount your Google drive"
      ]
    },
    {
      "cell_type": "code",
      "metadata": {
        "id": "2THpKXdGky00"
      },
      "source": [
        "from google.colab import drive\n",
        "drive.mount('/content/drive', force_remount=True)"
      ],
      "execution_count": null,
      "outputs": []
    },
    {
      "cell_type": "code",
      "metadata": {
        "colab": {
          "base_uri": "https://localhost:8080/"
        },
        "id": "2K1BR6RZ_MR2",
        "outputId": "1aa35787-2c53-47ad-c2a2-54d26560fb3a"
      },
      "source": [
        "from google.colab import drive\n",
        "drive.mount('/content/drive')"
      ],
      "execution_count": null,
      "outputs": [
        {
          "output_type": "stream",
          "text": [
            "Mounted at /content/drive\n"
          ],
          "name": "stdout"
        }
      ]
    },
    {
      "cell_type": "markdown",
      "metadata": {
        "id": "GkiCilawk0eO"
      },
      "source": [
        "4. Run the utility from the Untar-ed folder and add as many MEGA links as you want."
      ]
    },
    {
      "cell_type": "code",
      "metadata": {
        "id": "AH6ubhNXlEe1"
      },
      "source": [
        "!megatools-1.11.0-git-20200503-linux-x86_64/./megatools dl --path drive/Shareddrives/SoapEnc2/ https://mega.nz/folder/0IlVmaob#VI6Js-tGFLBvkuNrRMTTyQ https://mega.nz/folder/Ad933KqA#ZTka0jq1qTVT-KcFLZNtbg https://mega.nz/folder/BA0FEK6A#2i5ZIm3gfwQXeeIMgOgd9Q https://mega.nz/folder/IRVzUS6R#z8tvETKuVP2r7iAbJdaPYQ https://mega.nz/folder/9YVF0KZa#x04rj-Ic1u35WRM6LWeSYQ https://mega.nz/folder/1J82UIKT#zJ9avoNYoukS5twXkOlI8A https://mega.nz/folder/wF0QzJhT#tgwPwMU48r7hcbymTXvPYw https://mega.nz/folder/NAdDVaJI#ehVkF1JHHRIr8WXQaXSqJw https://mega.nz/folder/5VsDiCIS#vk7017Bc0d4dMVp5t4K_ww https://mega.nz/folder/NR0VkIaa#praWNUWZ2ZDo_FrV9U7f5Q"
      ],
      "execution_count": null,
      "outputs": []
    },
    {
      "cell_type": "markdown",
      "metadata": {
        "id": "gN4GyGXqlpHS"
      },
      "source": [
        "5. As downloading will take time, Google Colab forces the notebook to sleep. Open the console (F12 on Chrome) and add this javascript \"function ClickConnect(){ console.log(\"Clicked on connect button\"); document.querySelector(\"colab-connect-button\").click() } setInterval(ClickConnect,60000)\" without the double-inverted commas and hit enter. Just close the Active Sessions box if it keeps popping up"
      ]
    }
  ]
}