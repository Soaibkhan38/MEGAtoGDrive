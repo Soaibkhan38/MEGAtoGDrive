{
  "nbformat": 4,
  "nbformat_minor": 0,
  "metadata": {
    "colab": {
      "name": "Untitled5.ipynb",
      "provenance": []
    },
    "kernelspec": {
      "name": "python3",
      "display_name": "Python 3"
    }
  },
  "cells": [
    {
      "cell_type": "markdown",
      "metadata": {
        "id": "kp6davlLkOQR"
      },
      "source": [
        "1. Download the MEGA utility (Recommended: Replace the link with recent build if possible)"
      ]
    },
    {
      "cell_type": "code",
      "metadata": {
        "colab": {
          "base_uri": "https://localhost:8080/"
        },
        "id": "FjJPHmsokDeV",
        "outputId": "0beba366-655f-4c87-d04c-1bbc7d7ad4a3"
      },
      "source": [
        "!wget https://megatools.megous.com/builds/experimental/megatools-1.11.0-git-20200503-linux-x86_64.tar.gz"
      ],
      "execution_count": 1,
      "outputs": [
        {
          "output_type": "stream",
          "text": [
            "--2020-11-28 16:00:02--  https://megatools.megous.com/builds/experimental/megatools-1.11.0-git-20200503-linux-x86_64.tar.gz\n",
            "Resolving megatools.megous.com (megatools.megous.com)... 195.181.215.36, 2001:15e8:110:3624::1\n",
            "Connecting to megatools.megous.com (megatools.megous.com)|195.181.215.36|:443... connected.\n",
            "HTTP request sent, awaiting response... 200 OK\n",
            "Length: 3416034 (3.3M) [application/gzip]\n",
            "Saving to: ‘megatools-1.11.0-git-20200503-linux-x86_64.tar.gz’\n",
            "\n",
            "megatools-1.11.0-gi 100%[===================>]   3.26M  4.35MB/s    in 0.7s    \n",
            "\n",
            "2020-11-28 16:00:04 (4.35 MB/s) - ‘megatools-1.11.0-git-20200503-linux-x86_64.tar.gz’ saved [3416034/3416034]\n",
            "\n"
          ],
          "name": "stdout"
        }
      ]
    },
    {
      "cell_type": "markdown",
      "metadata": {
        "id": "4rupKuskkf8n"
      },
      "source": [
        "2. Untar it"
      ]
    },
    {
      "cell_type": "code",
      "metadata": {
        "colab": {
          "base_uri": "https://localhost:8080/"
        },
        "id": "SJUiec6LkieV",
        "outputId": "f0e2817f-bec8-483f-8730-f831ac6eca8c"
      },
      "source": [
        "!tar -xvzf megatools-1.11.0-git-20200503-linux-x86_64.tar.gz"
      ],
      "execution_count": 2,
      "outputs": [
        {
          "output_type": "stream",
          "text": [
            "megatools-1.11.0-git-20200503-linux-x86_64/\n",
            "megatools-1.11.0-git-20200503-linux-x86_64/megatools\n",
            "megatools-1.11.0-git-20200503-linux-x86_64/.megarc\n",
            "megatools-1.11.0-git-20200503-linux-x86_64/README\n",
            "megatools-1.11.0-git-20200503-linux-x86_64/NEWS\n",
            "megatools-1.11.0-git-20200503-linux-x86_64/TODO\n",
            "megatools-1.11.0-git-20200503-linux-x86_64/LICENSE\n",
            "megatools-1.11.0-git-20200503-linux-x86_64/DEPS\n",
            "megatools-1.11.0-git-20200503-linux-x86_64/docs/\n",
            "megatools-1.11.0-git-20200503-linux-x86_64/docs/megatools-df.html\n",
            "megatools-1.11.0-git-20200503-linux-x86_64/docs/megatools-get.html\n",
            "megatools-1.11.0-git-20200503-linux-x86_64/docs/megatools-mkdir.html\n",
            "megatools-1.11.0-git-20200503-linux-x86_64/docs/megatools-copy.html\n",
            "megatools-1.11.0-git-20200503-linux-x86_64/docs/megatools-test.html\n",
            "megatools-1.11.0-git-20200503-linux-x86_64/docs/megatools.html\n",
            "megatools-1.11.0-git-20200503-linux-x86_64/docs/megatools-ls.html\n",
            "megatools-1.11.0-git-20200503-linux-x86_64/docs/megatools-put.html\n",
            "megatools-1.11.0-git-20200503-linux-x86_64/docs/docbook-xsl.css\n",
            "megatools-1.11.0-git-20200503-linux-x86_64/docs/megatools-reg.html\n",
            "megatools-1.11.0-git-20200503-linux-x86_64/docs/megarc.html\n",
            "megatools-1.11.0-git-20200503-linux-x86_64/docs/megatools-dl.html\n",
            "megatools-1.11.0-git-20200503-linux-x86_64/docs/megatools-rm.html\n",
            "megatools-1.11.0-git-20200503-linux-x86_64/docs/megatools-export.html\n",
            "megatools-1.11.0-git-20200503-linux-x86_64/CHECKSUMS\n"
          ],
          "name": "stdout"
        }
      ]
    },
    {
      "cell_type": "markdown",
      "metadata": {
        "id": "qdtda1qVkqBL"
      },
      "source": [
        "3. Mount your Google drive"
      ]
    },
    {
      "cell_type": "code",
      "metadata": {
        "id": "2THpKXdGky00"
      },
      "source": [
        "from google.colab import drive\n",
        "drive.mount('/content/drive')"
      ],
      "execution_count": null,
      "outputs": []
    },
    {
      "cell_type": "markdown",
      "metadata": {
        "id": "GkiCilawk0eO"
      },
      "source": [
        "4. Run the utility from the Untar-ed folder and add as many MEGA links as you want."
      ]
    },
    {
      "cell_type": "code",
      "metadata": {
        "id": "AH6ubhNXlEe1"
      },
      "source": [
        "!megatools-1.11.0-git-20200503-linux-x86_64./megatools dl --path drive/ MEGA_LINK_1 MEGA_LINK_2 ..."
      ],
      "execution_count": null,
      "outputs": []
    },
    {
      "cell_type": "markdown",
      "metadata": {
        "id": "gN4GyGXqlpHS"
      },
      "source": [
        "5. As downloading will take time, Google Colab forces the notebook to sleep. Open the console (F12 on Chrome) and add this javascript \"function ClickConnect(){ console.log(\"Clicked on connect button\"); document.querySelector(\"colab-connect-button\").click() } setInterval(ClickConnect,60000)\" without the double-inverted commas and hit enter. Just close the Active Sessions box if it keeps popping up"
      ]
    }
  ]
}